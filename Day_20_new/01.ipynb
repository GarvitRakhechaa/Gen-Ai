{
 "cells": [
  {
   "cell_type": "code",
   "execution_count": 45,
   "id": "1cb55d6b",
   "metadata": {},
   "outputs": [],
   "source": [
    "from typing import TypedDict, List, Union\n",
    "from langgraph.graph import StateGraph, END\n",
    "import math"
   ]
  },
  {
   "cell_type": "code",
   "execution_count": 46,
   "id": "c85bce65",
   "metadata": {},
   "outputs": [],
   "source": [
    "class NumberFlowState(TypedDict):\n",
    "    num1: float\n",
    "    num2: float\n",
    "    current_value: Union[float, int, None, str]"
   ]
  },
  {
   "cell_type": "code",
   "execution_count": 47,
   "id": "8cb6701d",
   "metadata": {},
   "outputs": [],
   "source": [
    "graph_builder = StateGraph(NumberFlowState)"
   ]
  },
  {
   "cell_type": "code",
   "execution_count": 48,
   "id": "f0c04381",
   "metadata": {},
   "outputs": [],
   "source": [
    "def node_a(state: NumberFlowState) -> dict:\n",
    "    num1 = state.get('num1', 0.0)\n",
    "    num2 = state.get('num2', 0.0)\n",
    "    print(\"Node A: Received inputs\")\n",
    "    return {'num1': num1, 'num2': num2}\n",
    "\n",
    "\n"
   ]
  },
  {
   "cell_type": "code",
   "execution_count": 49,
   "id": "7f2f8777",
   "metadata": {},
   "outputs": [],
   "source": [
    "def node_b(state: NumberFlowState) -> dict:\n",
    "    num1 = state['num1']\n",
    "    num2 = state['num2']\n",
    "    result = num1 + num2\n",
    "    print(f\"Node B: {num1} + {num2} = {result}\")\n",
    "    return {'current_value': result}"
   ]
  },
  {
   "cell_type": "code",
   "execution_count": 50,
   "id": "033c7935",
   "metadata": {},
   "outputs": [],
   "source": [
    "def node_c(state: NumberFlowState) -> dict:\n",
    "    current_value = state['current_value']\n",
    "    result = current_value * 5\n",
    "    print(f\"Node C: {current_value} * 5 = {result}\")\n",
    "    return {'current_value': result}"
   ]
  },
  {
   "cell_type": "code",
   "execution_count": 51,
   "id": "02ddba70",
   "metadata": {},
   "outputs": [],
   "source": [
    "def node_d(state: NumberFlowState) -> dict:\n",
    "    current_value = state['current_value']\n",
    "    result = current_value - 10\n",
    "    print(f\"Node D: {current_value} - 10 = {result}\")\n",
    "    return {'current_value': result}"
   ]
  },
  {
   "cell_type": "code",
   "execution_count": 52,
   "id": "b18db6d1",
   "metadata": {},
   "outputs": [],
   "source": [
    "def node_e(state: NumberFlowState) -> dict:\n",
    "    current_value = state['current_value']\n",
    "    if current_value is None or (isinstance(current_value, (int, float)) and current_value == 0):\n",
    "        print(\"Node E: Division by zero or invalid value, using 0 as current_value\")\n",
    "        current_value = 0.0\n",
    "    result = current_value / 5.0\n",
    "    print(f\"Node E: {current_value} / 5 = {result}\")\n",
    "    return {'current_value': result}\n",
    "    "
   ]
  },
  {
   "cell_type": "code",
   "execution_count": 53,
   "id": "a96421cc",
   "metadata": {},
   "outputs": [],
   "source": [
    "def node_f(state: NumberFlowState) -> dict:\n",
    "    current_value = state['current_value']\n",
    "    try:\n",
    "        int_value = int(round(current_value))\n",
    "        result = int_value % 7\n",
    "        print(f\"Node F: {int_value} % 7 = {result}\")\n",
    "        return {'current_value': result}\n",
    "    except (ValueError, TypeError) as e:\n",
    "         print(f\"Node F: Could not perform remainder op on {current_value}: {e}\")\n",
    "         return {'current_value': f\"Error: {current_value} not applicable for % 7\"}\n",
    "        \n"
   ]
  },
  {
   "cell_type": "code",
   "execution_count": 54,
   "id": "a8708e34",
   "metadata": {},
   "outputs": [],
   "source": [
    "def route_after_e(state: NumberFlowState) -> str:\n",
    "    current_value = state.get('current_value')\n",
    "    print(f\"Router after E: Checking value type/form: {current_value}\")\n",
    "    if isinstance(current_value, (int, float)):\n",
    "        is_integer_like = math.isclose(current_value, round(current_value), abs_tol=1e-9)\n",
    "        print(f\"--- Value {current_value} is integer-like: {is_integer_like}\")\n",
    "        if is_integer_like:\n",
    "             return \"is_integer_path\" # Route to F\n",
    "        else:\n",
    "             return \"is_float_path\" # Route to END\n",
    "    else:\n",
    "        print(f\"--- Value {current_value} is not a valid number, routing to float path (END).\")\n",
    "        return \"is_float_path\" # Treat non-numeric as float path / error path to END\n",
    "\n",
    "\n"
   ]
  },
  {
   "cell_type": "code",
   "execution_count": 55,
   "id": "c6882f07",
   "metadata": {},
   "outputs": [
    {
     "data": {
      "text/plain": [
       "<langgraph.graph.state.StateGraph at 0x18f9f4f5450>"
      ]
     },
     "execution_count": 55,
     "metadata": {},
     "output_type": "execute_result"
    }
   ],
   "source": [
    "graph_builder.add_node(\"A\", node_a)\n",
    "graph_builder.add_node(\"B\", node_b)\n",
    "graph_builder.add_node(\"C\", node_c)\n",
    "graph_builder.add_node(\"D\", node_d)\n",
    "graph_builder.add_node(\"E\", node_e)\n",
    "graph_builder.add_node(\"F\", node_f)\n",
    "\n",
    "graph_builder.set_entry_point(\"A\")"
   ]
  },
  {
   "cell_type": "code",
   "execution_count": 56,
   "id": "ba73e716",
   "metadata": {},
   "outputs": [
    {
     "data": {
      "text/plain": [
       "<langgraph.graph.state.StateGraph at 0x18f9f4f5450>"
      ]
     },
     "execution_count": 56,
     "metadata": {},
     "output_type": "execute_result"
    }
   ],
   "source": [
    "graph_builder.add_edge(\"A\", \"B\")\n",
    "graph_builder.add_edge(\"B\", \"C\")\n",
    "graph_builder.add_edge(\"C\", \"D\")\n",
    "graph_builder.add_edge(\"D\", \"E\")\n",
    "graph_builder.add_conditional_edges(\"E\",route_after_e,{\n",
    "    \"is_integer_path\": \"F\",\n",
    "    \"is_float_path\": END\n",
    "    }\n",
    ")\n",
    "\n",
    "graph_builder.add_edge(\"F\", END)\n"
   ]
  },
  {
   "cell_type": "code",
   "execution_count": 57,
   "id": "6d7ed87d",
   "metadata": {},
   "outputs": [],
   "source": [
    "compiled_graph = graph_builder.compile()"
   ]
  },
  {
   "cell_type": "code",
   "execution_count": null,
   "id": "8f952694",
   "metadata": {},
   "outputs": [],
   "source": []
  },
  {
   "cell_type": "code",
   "execution_count": 65,
   "id": "0b1e9528",
   "metadata": {},
   "outputs": [
    {
     "name": "stdout",
     "output_type": "stream",
     "text": [
      "Node A: Received inputs\n",
      "Node B: 10.3 + 6.8 = 17.1\n",
      "Node C: 17.1 * 5 = 85.5\n",
      "Node D: 85.5 - 10 = 75.5\n",
      "Node E: 75.5 / 5 = 15.1\n",
      "Router after E: Checking value type/form: 15.1\n",
      "--- Value 15.1 is integer-like: False\n"
     ]
    },
    {
     "data": {
      "text/plain": [
       "{'num1': 10.3, 'num2': 6.8, 'current_value': 15.1}"
      ]
     },
     "execution_count": 65,
     "metadata": {},
     "output_type": "execute_result"
    }
   ],
   "source": [
    "compiled_graph.invoke({\"num1\":10.3, \"num2\":6.8, })"
   ]
  },
  {
   "cell_type": "code",
   "execution_count": null,
   "id": "691e1786",
   "metadata": {},
   "outputs": [
    {
     "ename": "AttributeError",
     "evalue": "partially initialized module 'yaml' from 'c:\\Users\\garvi\\OneDrive\\Desktop\\codebases\\Gen-AI\\venv\\Lib\\site-packages\\yaml\\__init__.py' has no attribute 'error' (most likely due to a circular import)",
     "output_type": "error",
     "traceback": [
      "\u001b[31m---------------------------------------------------------------------------\u001b[39m",
      "\u001b[31mAttributeError\u001b[39m                            Traceback (most recent call last)",
      "\u001b[36mCell\u001b[39m\u001b[36m \u001b[39m\u001b[32mIn[60]\u001b[39m\u001b[32m, line 2\u001b[39m\n\u001b[32m      1\u001b[39m \u001b[38;5;28;01mfrom\u001b[39;00m\u001b[38;5;250m \u001b[39m\u001b[34;01mIPython\u001b[39;00m\u001b[34;01m.\u001b[39;00m\u001b[34;01mdisplay\u001b[39;00m\u001b[38;5;250m \u001b[39m\u001b[38;5;28;01mimport\u001b[39;00m Image , display\n\u001b[32m----> \u001b[39m\u001b[32m2\u001b[39m display(Image(\u001b[43mcompiled_graph\u001b[49m\u001b[43m.\u001b[49m\u001b[43mget_graph\u001b[49m\u001b[43m(\u001b[49m\u001b[43m)\u001b[49m\u001b[43m.\u001b[49m\u001b[43mdraw_mermaid_png\u001b[49m\u001b[43m(\u001b[49m\u001b[43m)\u001b[49m))\n",
      "\u001b[36mFile \u001b[39m\u001b[32mc:\\Users\\garvi\\OneDrive\\Desktop\\codebases\\Gen-AI\\venv\\Lib\\site-packages\\langchain_core\\runnables\\graph.py:677\u001b[39m, in \u001b[36mGraph.draw_mermaid_png\u001b[39m\u001b[34m(self, curve_style, node_colors, wrap_label_n_words, output_file_path, draw_method, background_color, padding, max_retries, retry_delay, frontmatter_config)\u001b[39m\n\u001b[32m    625\u001b[39m \u001b[38;5;28;01mdef\u001b[39;00m\u001b[38;5;250m \u001b[39m\u001b[34mdraw_mermaid_png\u001b[39m(\n\u001b[32m    626\u001b[39m     \u001b[38;5;28mself\u001b[39m,\n\u001b[32m    627\u001b[39m     *,\n\u001b[32m   (...)\u001b[39m\u001b[32m    637\u001b[39m     frontmatter_config: Optional[\u001b[38;5;28mdict\u001b[39m[\u001b[38;5;28mstr\u001b[39m, Any]] = \u001b[38;5;28;01mNone\u001b[39;00m,\n\u001b[32m    638\u001b[39m ) -> \u001b[38;5;28mbytes\u001b[39m:\n\u001b[32m    639\u001b[39m \u001b[38;5;250m    \u001b[39m\u001b[33;03m\"\"\"Draw the graph as a PNG image using Mermaid.\u001b[39;00m\n\u001b[32m    640\u001b[39m \n\u001b[32m    641\u001b[39m \u001b[33;03m    Args:\u001b[39;00m\n\u001b[32m   (...)\u001b[39m\u001b[32m    675\u001b[39m \u001b[33;03m        The PNG image as bytes.\u001b[39;00m\n\u001b[32m    676\u001b[39m \u001b[33;03m    \"\"\"\u001b[39;00m\n\u001b[32m--> \u001b[39m\u001b[32m677\u001b[39m     \u001b[38;5;28;01mfrom\u001b[39;00m\u001b[38;5;250m \u001b[39m\u001b[34;01mlangchain_core\u001b[39;00m\u001b[34;01m.\u001b[39;00m\u001b[34;01mrunnables\u001b[39;00m\u001b[34;01m.\u001b[39;00m\u001b[34;01mgraph_mermaid\u001b[39;00m\u001b[38;5;250m \u001b[39m\u001b[38;5;28;01mimport\u001b[39;00m draw_mermaid_png\n\u001b[32m    679\u001b[39m     mermaid_syntax = \u001b[38;5;28mself\u001b[39m.draw_mermaid(\n\u001b[32m    680\u001b[39m         curve_style=curve_style,\n\u001b[32m    681\u001b[39m         node_colors=node_colors,\n\u001b[32m    682\u001b[39m         wrap_label_n_words=wrap_label_n_words,\n\u001b[32m    683\u001b[39m         frontmatter_config=frontmatter_config,\n\u001b[32m    684\u001b[39m     )\n\u001b[32m    685\u001b[39m     \u001b[38;5;28;01mreturn\u001b[39;00m draw_mermaid_png(\n\u001b[32m    686\u001b[39m         mermaid_syntax=mermaid_syntax,\n\u001b[32m    687\u001b[39m         output_file_path=output_file_path,\n\u001b[32m   (...)\u001b[39m\u001b[32m    692\u001b[39m         retry_delay=retry_delay,\n\u001b[32m    693\u001b[39m     )\n",
      "\u001b[36mFile \u001b[39m\u001b[32mc:\\Users\\garvi\\OneDrive\\Desktop\\codebases\\Gen-AI\\venv\\Lib\\site-packages\\langchain_core\\runnables\\graph_mermaid.py:12\u001b[39m\n\u001b[32m      9\u001b[39m \u001b[38;5;28;01mfrom\u001b[39;00m\u001b[38;5;250m \u001b[39m\u001b[34;01mpathlib\u001b[39;00m\u001b[38;5;250m \u001b[39m\u001b[38;5;28;01mimport\u001b[39;00m Path\n\u001b[32m     10\u001b[39m \u001b[38;5;28;01mfrom\u001b[39;00m\u001b[38;5;250m \u001b[39m\u001b[34;01mtyping\u001b[39;00m\u001b[38;5;250m \u001b[39m\u001b[38;5;28;01mimport\u001b[39;00m Any, Literal, Optional\n\u001b[32m---> \u001b[39m\u001b[32m12\u001b[39m \u001b[38;5;28;01mimport\u001b[39;00m\u001b[38;5;250m \u001b[39m\u001b[34;01myaml\u001b[39;00m\n\u001b[32m     14\u001b[39m \u001b[38;5;28;01mfrom\u001b[39;00m\u001b[38;5;250m \u001b[39m\u001b[34;01mlangchain_core\u001b[39;00m\u001b[34;01m.\u001b[39;00m\u001b[34;01mrunnables\u001b[39;00m\u001b[34;01m.\u001b[39;00m\u001b[34;01mgraph\u001b[39;00m\u001b[38;5;250m \u001b[39m\u001b[38;5;28;01mimport\u001b[39;00m (\n\u001b[32m     15\u001b[39m     CurveStyle,\n\u001b[32m     16\u001b[39m     Edge,\n\u001b[32m   (...)\u001b[39m\u001b[32m     19\u001b[39m     NodeStyles,\n\u001b[32m     20\u001b[39m )\n\u001b[32m     22\u001b[39m MARKDOWN_SPECIAL_CHARS = \u001b[33m\"\u001b[39m\u001b[33m*_`\u001b[39m\u001b[33m\"\u001b[39m\n",
      "\u001b[36mFile \u001b[39m\u001b[32mc:\\Users\\garvi\\OneDrive\\Desktop\\codebases\\Gen-AI\\venv\\Lib\\site-packages\\yaml\\__init__.py:13\u001b[39m\n\u001b[32m     11\u001b[39m __version__ = \u001b[33m'\u001b[39m\u001b[33m6.0.2\u001b[39m\u001b[33m'\u001b[39m\n\u001b[32m     12\u001b[39m \u001b[38;5;28;01mtry\u001b[39;00m:\n\u001b[32m---> \u001b[39m\u001b[32m13\u001b[39m     \u001b[38;5;28;01mfrom\u001b[39;00m\u001b[38;5;250m \u001b[39m\u001b[34;01m.\u001b[39;00m\u001b[34;01mcyaml\u001b[39;00m\u001b[38;5;250m \u001b[39m\u001b[38;5;28;01mimport\u001b[39;00m *\n\u001b[32m     14\u001b[39m     __with_libyaml__ = \u001b[38;5;28;01mTrue\u001b[39;00m\n\u001b[32m     15\u001b[39m \u001b[38;5;28;01mexcept\u001b[39;00m \u001b[38;5;167;01mImportError\u001b[39;00m:\n",
      "\u001b[36mFile \u001b[39m\u001b[32mc:\\Users\\garvi\\OneDrive\\Desktop\\codebases\\Gen-AI\\venv\\Lib\\site-packages\\yaml\\cyaml.py:7\u001b[39m\n\u001b[32m      2\u001b[39m __all__ = [\n\u001b[32m      3\u001b[39m     \u001b[33m'\u001b[39m\u001b[33mCBaseLoader\u001b[39m\u001b[33m'\u001b[39m, \u001b[33m'\u001b[39m\u001b[33mCSafeLoader\u001b[39m\u001b[33m'\u001b[39m, \u001b[33m'\u001b[39m\u001b[33mCFullLoader\u001b[39m\u001b[33m'\u001b[39m, \u001b[33m'\u001b[39m\u001b[33mCUnsafeLoader\u001b[39m\u001b[33m'\u001b[39m, \u001b[33m'\u001b[39m\u001b[33mCLoader\u001b[39m\u001b[33m'\u001b[39m,\n\u001b[32m      4\u001b[39m     \u001b[33m'\u001b[39m\u001b[33mCBaseDumper\u001b[39m\u001b[33m'\u001b[39m, \u001b[33m'\u001b[39m\u001b[33mCSafeDumper\u001b[39m\u001b[33m'\u001b[39m, \u001b[33m'\u001b[39m\u001b[33mCDumper\u001b[39m\u001b[33m'\u001b[39m\n\u001b[32m      5\u001b[39m ]\n\u001b[32m----> \u001b[39m\u001b[32m7\u001b[39m \u001b[38;5;28;01mfrom\u001b[39;00m\u001b[38;5;250m \u001b[39m\u001b[34;01myaml\u001b[39;00m\u001b[34;01m.\u001b[39;00m\u001b[34;01m_yaml\u001b[39;00m\u001b[38;5;250m \u001b[39m\u001b[38;5;28;01mimport\u001b[39;00m CParser, CEmitter\n\u001b[32m      9\u001b[39m \u001b[38;5;28;01mfrom\u001b[39;00m\u001b[38;5;250m \u001b[39m\u001b[34;01m.\u001b[39;00m\u001b[34;01mconstructor\u001b[39;00m\u001b[38;5;250m \u001b[39m\u001b[38;5;28;01mimport\u001b[39;00m *\n\u001b[32m     11\u001b[39m \u001b[38;5;28;01mfrom\u001b[39;00m\u001b[38;5;250m \u001b[39m\u001b[34;01m.\u001b[39;00m\u001b[34;01mserializer\u001b[39;00m\u001b[38;5;250m \u001b[39m\u001b[38;5;28;01mimport\u001b[39;00m *\n",
      "\u001b[36mFile \u001b[39m\u001b[32myaml\\\\_yaml.pyx:15\u001b[39m, in \u001b[36minit yaml._yaml\u001b[39m\u001b[34m()\u001b[39m\n",
      "\u001b[31mAttributeError\u001b[39m: partially initialized module 'yaml' from 'c:\\Users\\garvi\\OneDrive\\Desktop\\codebases\\Gen-AI\\venv\\Lib\\site-packages\\yaml\\__init__.py' has no attribute 'error' (most likely due to a circular import)"
     ]
    }
   ],
   "source": []
  }
 ],
 "metadata": {
  "kernelspec": {
   "display_name": "venv",
   "language": "python",
   "name": "python3"
  },
  "language_info": {
   "codemirror_mode": {
    "name": "ipython",
    "version": 3
   },
   "file_extension": ".py",
   "mimetype": "text/x-python",
   "name": "python",
   "nbconvert_exporter": "python",
   "pygments_lexer": "ipython3",
   "version": "3.13.3"
  }
 },
 "nbformat": 4,
 "nbformat_minor": 5
}
