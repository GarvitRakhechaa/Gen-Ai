{
 "cells": [
  {
   "cell_type": "code",
   "execution_count": 21,
   "id": "783efccc",
   "metadata": {},
   "outputs": [],
   "source": [
    "from typing import Dict , TypedDict\n",
    "from langgraph.graph import StateGraph"
   ]
  },
  {
   "cell_type": "code",
   "execution_count": 22,
   "id": "2958b82d",
   "metadata": {},
   "outputs": [],
   "source": [
    "class PersonalAgent(TypedDict):\n",
    "    Name: str"
   ]
  },
  {
   "cell_type": "code",
   "execution_count": 23,
   "id": "49df5cc7",
   "metadata": {},
   "outputs": [],
   "source": [
    "def personal_greet(state: PersonalAgent) -> PersonalAgent:\n",
    "    \"\"\" this is excersize \"\"\"\n",
    "    state['Name'] = state['Name'] + \", this is an excersize\"\n",
    "    return state\n"
   ]
  },
  {
   "cell_type": "code",
   "execution_count": 24,
   "id": "d9026f11",
   "metadata": {},
   "outputs": [],
   "source": [
    "graph_builder = StateGraph(PersonalAgent)"
   ]
  },
  {
   "cell_type": "code",
   "execution_count": 25,
   "id": "fa473fc1",
   "metadata": {},
   "outputs": [],
   "source": [
    "graph_builder.add_node(\"excersize_node\", personal_greet)\n",
    "graph_builder.set_entry_point(\"excersize_node\")\n",
    "graph_builder.set_finish_point(\"excersize_node\")\n",
    "\n",
    "graph = graph_builder.compile()"
   ]
  },
  {
   "cell_type": "code",
   "execution_count": 26,
   "id": "252caad2",
   "metadata": {},
   "outputs": [
    {
     "data": {
      "image/png": "[encoded data removed]",
      "text/plain": [
       "<IPython.core.display.Image object>"
      ]
     },
     "metadata": {},
     "output_type": "display_data"
    }
   ],
   "source": [
    "from IPython.display import Image, display\n",
    "display(Image(graph.get_graph().draw_mermaid_png()))"
   ]
  },
  {
   "cell_type": "code",
   "execution_count": 28,
   "id": "78e77bf6",
   "metadata": {},
   "outputs": [
    {
     "data": {
      "text/plain": [
       "{'Name': 'Garvit, this is an excersize'}"
      ]
     },
     "execution_count": 28,
     "metadata": {},
     "output_type": "execute_result"
    }
   ],
   "source": [
    "response = graph.invoke({\"Name\": \"Garvit\"})\n",
    "response"
   ]
  }
 ],
 "metadata": {
  "kernelspec": {
   "display_name": "venv",
   "language": "python",
   "name": "python3"
  },
  "language_info": {
   "codemirror_mode": {
    "name": "ipython",
    "version": 3
   },
   "file_extension": ".py",
   "mimetype": "text/x-python",
   "name": "python",
   "nbconvert_exporter": "python",
   "pygments_lexer": "ipython3",
   "version": "3.13.3"
  }
 },
 "nbformat": 4,
 "nbformat_minor": 5
}
