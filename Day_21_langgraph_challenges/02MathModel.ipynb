{
 "cells": [
  {
   "cell_type": "code",
   "execution_count": 21,
   "id": "87fa9508",
   "metadata": {},
   "outputs": [],
   "source": [
    "from typing import TypedDict , List\n",
    "from langgraph.graph import StateGraph\n",
    "from math import prod"
   ]
  },
  {
   "cell_type": "code",
   "execution_count": 22,
   "id": "52e4c2c2",
   "metadata": {},
   "outputs": [],
   "source": [
    "class MahAgent(TypedDict):\n",
    "    values: list[int]\n",
    "    name: str\n",
    "    operation : str\n",
    "    result: str"
   ]
  },
  {
   "cell_type": "code",
   "execution_count": 23,
   "id": "2b11254c",
   "metadata": {},
   "outputs": [],
   "source": [
    "def calc_node(state: MahAgent) -> MahAgent:\n",
    "    \"\"\" this is used for mathematical calculation\"\"\"\n",
    "    if state['operation'] == \"+\":\n",
    "        state['result'] = f\"Hi {state['name']}, your answer is: {sum(state['values'])}\"\n",
    "    if state['operation'] == \"*\":\n",
    "        state['result'] = f\"Hi {state['name']}, your answer is: {prod(state['values'])}\"\n",
    "    return state"
   ]
  },
  {
   "cell_type": "code",
   "execution_count": 24,
   "id": "476b68b7",
   "metadata": {},
   "outputs": [],
   "source": [
    "graph_builder = StateGraph(MahAgent)"
   ]
  },
  {
   "cell_type": "code",
   "execution_count": 25,
   "id": "bce00bb9",
   "metadata": {},
   "outputs": [],
   "source": [
    "graph_builder.add_node(\"calculation_node\", calc_node)\n",
    "graph_builder.set_entry_point(\"calculation_node\")\n",
    "graph_builder.set_finish_point(\"calculation_node\")\n",
    "\n",
    "graph = graph_builder.compile()"
   ]
  },
  {
   "cell_type": "code",
   "execution_count": 26,
   "id": "9289675a",
   "metadata": {},
   "outputs": [
    {
     "data": {
      "image/png": "[encoded data removed]",
      "text/plain": [
       "<IPython.core.display.Image object>"
      ]
     },
     "metadata": {},
     "output_type": "display_data"
    }
   ],
   "source": [
    "from IPython.display import Image, display\n",
    "display(Image(graph.get_graph().draw_mermaid_png()))"
   ]
  },
  {
   "cell_type": "code",
   "execution_count": 27,
   "id": "5a908885",
   "metadata": {},
   "outputs": [
    {
     "data": {
      "text/plain": [
       "'Hi Garvit, your answer is: 3628800'"
      ]
     },
     "execution_count": 27,
     "metadata": {},
     "output_type": "execute_result"
    }
   ],
   "source": [
    "# response1 = graph.invoke({\"values\": [1,2,3,4,5,6,7,8,9,10], \"name\": \"Garvit\", \"operation\" : \"+\"})\n",
    "response2 = graph.invoke({\"values\": [1,2,3,4,5,6,7,8,9,10], \"name\": \"Garvit\", \"operation\" : \"*\"})\n",
    "# response1[\"result\"]\n",
    "response2[\"result\"]"
   ]
  }
 ],
 "metadata": {
  "kernelspec": {
   "display_name": "venv",
   "language": "python",
   "name": "python3"
  },
  "language_info": {
   "codemirror_mode": {
    "name": "ipython",
    "version": 3
   },
   "file_extension": ".py",
   "mimetype": "text/x-python",
   "name": "python",
   "nbconvert_exporter": "python",
   "pygments_lexer": "ipython3",
   "version": "3.13.3"
  }
 },
 "nbformat": 4,
 "nbformat_minor": 5
}
